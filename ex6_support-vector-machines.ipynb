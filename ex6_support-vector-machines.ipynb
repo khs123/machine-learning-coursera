{
 "cells": [
  {
   "cell_type": "markdown",
   "metadata": {},
   "source": [
    "# Programming Exercise - Support Vector Machines"
   ]
  },
  {
   "cell_type": "code",
   "execution_count": 3,
   "metadata": {
    "collapsed": true
   },
   "outputs": [],
   "source": [
    "import pandas as pd\n",
    "import numpy as np\n",
    "import matplotlib as mpl\n",
    "import matplotlib.pyplot as plt\n",
    "import re\n",
    "from stemming.porter2 import stem\n",
    "\n",
    "from scipy.io import loadmat\n",
    "from sklearn.svm import SVC\n",
    "\n",
    "pd.set_option('display.notebook_repr_html', False)\n",
    "pd.set_option('display.max_columns', None)\n",
    "pd.set_option('display.max_rows', 150)\n",
    "pd.set_option('display.max_seq_items', None)\n",
    "\n",
    "import seaborn as sns\n",
    "sns.set_context('notebook')\n",
    "sns.set_style('white')"
   ]
  },
  {
   "cell_type": "code",
   "execution_count": 4,
   "metadata": {
    "collapsed": true
   },
   "outputs": [],
   "source": [
    "def plot_data(X, y):\n",
    "    pos = (y==1).ravel()\n",
    "    neg = (y==0).ravel()\n",
    "    \n",
    "    plt.scatter(X[pos,0], X[pos,1], s=60, c='k', marker='+', linewidths=1)\n",
    "    plt.scatter(X[neg,0], X[neg,1], s=60, c='y', marker='o', linewidths=1)"
   ]
  },
  {
   "cell_type": "code",
   "execution_count": 5,
   "metadata": {
    "collapsed": true
   },
   "outputs": [],
   "source": [
    "def plot_svc(svc, X, y, h=0.02, pad=0.25):\n",
    "    x_min, x_max = X[:, 0].min()-pad, X[:,0].max()+pad\n",
    "    y_min, y_max = X[:, 1].min()-pad, X[:,1].max()+pad\n",
    "    \n",
    "    \n",
    "    xx, yy = np.meshgrid(np.arange(x_min, x_max, h), np.arange(y_min, y_max, h))\n",
    "    Z = svc.predict(np.c_[xx.ravel(), yy.ravel()])\n",
    "    Z = Z.reshape(xx.shape)\n",
    "    plt.contourf(xx, yy, Z, cmap=plt.cm.Paired, alpha=0.2)\n",
    "    \n",
    "    plot_data(X, y)\n",
    "    sv = svc.support_vectors_\n",
    "    plt.scatter(sv[:,0], sv[:,1], c='k', marker='|', s=100, linewidths='1')\n",
    "    plt.xlim(x_min, x_max)\n",
    "    plt.ylim(y_min, y_max)\n",
    "    plt.xlabel('X1')\n",
    "    plt.ylabel('X2')\n",
    "    plt.show()\n",
    "    print(\"Number of support vectors: \", svc.support_.size)"
   ]
  },
  {
   "cell_type": "markdown",
   "metadata": {},
   "source": [
    "## Support Vector Machines"
   ]
  },
  {
   "cell_type": "markdown",
   "metadata": {},
   "source": [
    "### Example Dataset 1"
   ]
  },
  {
   "cell_type": "code",
   "execution_count": 7,
   "metadata": {},
   "outputs": [
    {
     "data": {
      "text/plain": [
       "dict_keys(['__header__', '__version__', '__globals__', 'X', 'y'])"
      ]
     },
     "execution_count": 7,
     "metadata": {},
     "output_type": "execute_result"
    }
   ],
   "source": [
    "data1 = loadmat('data/ex6data1.mat')\n",
    "data1.keys()"
   ]
  },
  {
   "cell_type": "code",
   "execution_count": 8,
   "metadata": {},
   "outputs": [
    {
     "name": "stdout",
     "output_type": "stream",
     "text": [
      "X1:  (51, 2)\n",
      "y1:  (51, 1)\n"
     ]
    }
   ],
   "source": [
    "y1 = data1['y']\n",
    "X1 = data1['X']\n",
    "\n",
    "print(\"X1: \", X1.shape)\n",
    "print(\"y1: \", y1.shape)"
   ]
  },
  {
   "cell_type": "code",
   "execution_count": 9,
   "metadata": {
    "collapsed": true
   },
   "outputs": [],
   "source": [
    "plot_data(X1, y1)"
   ]
  },
  {
   "cell_type": "code",
   "execution_count": 10,
   "metadata": {},
   "outputs": [
    {
     "data": {
      "image/png": "[encoded data removed]",
      "text/plain": [
       "<matplotlib.figure.Figure at 0x7f440d720f60>"
      ]
     },
     "metadata": {},
     "output_type": "display_data"
    },
    {
     "name": "stdout",
     "output_type": "stream",
     "text": [
      "Number of support vectors:  12\n"
     ]
    }
   ],
   "source": [
    "clf = SVC(C=1.0, kernel='linear')\n",
    "clf.fit(X1, y1.ravel())\n",
    "plot_svc(clf, X1, y1)"
   ]
  },
  {
   "cell_type": "markdown",
   "metadata": {},
   "source": [
    "### SVM with Gaussian Kernels"
   ]
  },
  {
   "cell_type": "code",
   "execution_count": 11,
   "metadata": {
    "collapsed": true
   },
   "outputs": [],
   "source": [
    "def gaussian(x1, x2, sigma=2):\n",
    "    norm = (x1-x2).T.dot(x1-x2)\n",
    "    return np.exp(-norm/(2*sigma**2))"
   ]
  },
  {
   "cell_type": "code",
   "execution_count": 12,
   "metadata": {},
   "outputs": [
    {
     "data": {
      "text/plain": [
       "0.32465246735834974"
      ]
     },
     "execution_count": 12,
     "metadata": {},
     "output_type": "execute_result"
    }
   ],
   "source": [
    "x1 = np.array([1, 2, 1])\n",
    "x2 = np.array([0, 4, -1])\n",
    "\n",
    "sigma = 2\n",
    "\n",
    "gaussian(x1, x2, sigma)"
   ]
  },
  {
   "cell_type": "markdown",
   "metadata": {},
   "source": [
    "### Example dataset 2"
   ]
  },
  {
   "cell_type": "code",
   "execution_count": 13,
   "metadata": {
    "collapsed": true
   },
   "outputs": [],
   "source": [
    "data2 = loadmat('data/ex6data2.mat')\n",
    "\n",
    "X2 = data2['X']\n",
    "y2 = data2['y']\n",
    "plot_data(X2, y2)"
   ]
  },
  {
   "cell_type": "code",
   "execution_count": 14,
   "metadata": {},
   "outputs": [
    {
     "data": {
      "image/png": "[encoded data removed]",
      "text/plain": [
       "<matplotlib.figure.Figure at 0x7f44053dd278>"
      ]
     },
     "metadata": {},
     "output_type": "display_data"
    },
    {
     "name": "stdout",
     "output_type": "stream",
     "text": [
      "Number of support vectors:  254\n"
     ]
    }
   ],
   "source": [
    "clf2 = SVC(C=50, kernel='rbf', gamma=6)\n",
    "clf2.fit(X2, y2.ravel())\n",
    "plot_svc(clf2, X2, y2)"
   ]
  },
  {
   "cell_type": "markdown",
   "metadata": {},
   "source": [
    "### Exemple dataset 3"
   ]
  },
  {
   "cell_type": "code",
   "execution_count": 15,
   "metadata": {
    "collapsed": true
   },
   "outputs": [],
   "source": [
    "data3 = loadmat('data/ex6data3.mat')\n",
    "\n",
    "X3 = data3['X']\n",
    "y3 = data3['y']\n",
    "\n",
    "plot_data(X3, y3)"
   ]
  },
  {
   "cell_type": "code",
   "execution_count": 16,
   "metadata": {},
   "outputs": [
    {
     "data": {
      "image/png": "[encoded data removed]",
      "text/plain": [
       "<matplotlib.figure.Figure at 0x7f440533ee10>"
      ]
     },
     "metadata": {},
     "output_type": "display_data"
    },
    {
     "name": "stdout",
     "output_type": "stream",
     "text": [
      "Number of support vectors:  78\n"
     ]
    }
   ],
   "source": [
    "clf3 = SVC(C=1.0, kernel='poly', degree=3, gamma=10)\n",
    "clf3.fit(X3, y3.ravel())\n",
    "plot_svc(clf3, X3, y3)"
   ]
  },
  {
   "cell_type": "markdown",
   "metadata": {},
   "source": [
    "### Spam Classification"
   ]
  },
  {
   "cell_type": "code",
   "execution_count": 70,
   "metadata": {},
   "outputs": [
    {
     "name": "stdout",
     "output_type": "stream",
     "text": [
      "         1         aa\n",
      "0        2         ab\n",
      "1        3       abil\n",
      "2        4        abl\n",
      "3        5      about\n",
      "4        6       abov\n",
      "5        7    absolut\n",
      "6        8       abus\n",
      "7        9         ac\n",
      "8       10     accept\n",
      "9       11     access\n",
      "10      12     accord\n",
      "11      13    account\n",
      "12      14     achiev\n",
      "13      15     acquir\n",
      "14      16     across\n",
      "15      17        act\n",
      "16      18     action\n",
      "17      19      activ\n",
      "18      20     actual\n",
      "19      21         ad\n",
      "20      22       adam\n",
      "21      23        add\n",
      "22      24      addit\n",
      "23      25    address\n",
      "24      26  administr\n",
      "25      27      adult\n",
      "26      28     advanc\n",
      "27      29   advantag\n",
      "28      30   advertis\n",
      "29      31      advic\n",
      "30      32      advis\n",
      "31      33         ae\n",
      "32      34         af\n",
      "33      35     affect\n",
      "34      36     affili\n",
      "35      37     afford\n",
      "36      38     africa\n",
      "37      39      after\n",
      "38      40         ag\n",
      "39      41      again\n",
      "40      42    against\n",
      "41      43      agenc\n",
      "42      44      agent\n",
      "43      45        ago\n",
      "44      46       agre\n",
      "45      47  agreement\n",
      "46      48        aid\n",
      "47      49        air\n",
      "48      50         al\n",
      "49      51        alb\n",
      "50      52      align\n",
      "51      53        all\n",
      "52      54      allow\n",
      "53      55     almost\n",
      "54      56       alon\n",
      "55      57      along\n",
      "56      58    alreadi\n",
      "57      59       alsa\n",
      "58      60       also\n",
      "59      61     altern\n",
      "60      62   although\n",
      "61      63      alwai\n",
      "62      64         am\n",
      "63      65       amaz\n",
      "64      66    america\n",
      "65      67   american\n",
      "66      68      among\n",
      "67      69     amount\n",
      "68      70        amp\n",
      "69      71         an\n",
      "70      72    analysi\n",
      "71      73    analyst\n",
      "72      74        and\n",
      "73      75        ani\n",
      "74      76       anim\n",
      "...    ...        ...\n",
      "1823  1825        wed\n",
      "1824  1826  wednesdai\n",
      "1825  1827       week\n",
      "1826  1828     weekli\n",
      "1827  1829     weight\n",
      "1828  1830     welcom\n",
      "1829  1831       well\n",
      "1830  1832       went\n",
      "1831  1833       were\n",
      "1832  1834       west\n",
      "1833  1835       what\n",
      "1834  1836     whatev\n",
      "1835  1837       when\n",
      "1836  1838      where\n",
      "1837  1839    whether\n",
      "1838  1840      which\n",
      "1839  1841      while\n",
      "1840  1842      white\n",
      "1841  1843  whitelist\n",
      "1842  1844        who\n",
      "1843  1845      whole\n",
      "1844  1846      whose\n",
      "1845  1847        why\n",
      "1846  1848         wi\n",
      "1847  1849       wide\n",
      "1848  1850      width\n",
      "1849  1851       wife\n",
      "1850  1852       will\n",
      "1851  1853    william\n",
      "1852  1854        win\n",
      "1853  1855     window\n",
      "1854  1856       wing\n",
      "1855  1857     winner\n",
      "1856  1858   wireless\n",
      "1857  1859       wish\n",
      "1858  1860       with\n",
      "1859  1861     within\n",
      "1860  1862    without\n",
      "1861  1863   wnumberp\n",
      "1862  1864      woman\n",
      "1863  1865      women\n",
      "1864  1866        won\n",
      "1865  1867     wonder\n",
      "1866  1868       word\n",
      "1867  1869       work\n",
      "1868  1870     worker\n",
      "1869  1871      world\n",
      "1870  1872   worldwid\n",
      "1871  1873      worri\n",
      "1872  1874      worst\n",
      "1873  1875      worth\n",
      "1874  1876      would\n",
      "1875  1877     wouldn\n",
      "1876  1878      write\n",
      "1877  1879    written\n",
      "1878  1880      wrong\n",
      "1879  1881      wrote\n",
      "1880  1882        www\n",
      "1881  1883     ximian\n",
      "1882  1884        xml\n",
      "1883  1885         xp\n",
      "1884  1886      yahoo\n",
      "1885  1887         ye\n",
      "1886  1888       yeah\n",
      "1887  1889       year\n",
      "1888  1890  yesterdai\n",
      "1889  1891        yet\n",
      "1890  1892       york\n",
      "1891  1893        you\n",
      "1892  1894      young\n",
      "1893  1895       your\n",
      "1894  1896   yourself\n",
      "1895  1897      zdnet\n",
      "1896  1898       zero\n",
      "1897  1899        zip\n",
      "\n",
      "[1898 rows x 2 columns]\n"
     ]
    }
   ],
   "source": [
    "vocab = pd.read_table('data/vocab.txt')\n",
    "print(vocab)"
   ]
  },
  {
   "cell_type": "code",
   "execution_count": 62,
   "metadata": {},
   "outputs": [],
   "source": [
    "def preprocess(file):\n",
    "    with open('data/puntuations.txt') as punc:\n",
    "        puntuations = punc.read()\n",
    "    with open(file) as f:\n",
    "        email_contents = f.read()\n",
    "    email_contents = email_contents.lower()\n",
    "    email_contents = re.sub('<[^<>]+>', ' ', email_contents)\n",
    "    email_contents = re.sub('[0-9]+', 'number', email_contents)\n",
    "    email_contents = re.sub('(http|https)://[^\\s]*', \"httpaddr\", email_contents)\n",
    "    email_contents = re.sub('[^\\s]+@[^\\s]+', 'emailaddr', email_contents)\n",
    "    email_contents = re.sub('[$]+', 'dollar', email_contents)\n",
    "    email_contents = \" \".join(str(i) for i in [stem(word) for word in email_contents.split()])\n",
    "    for i in puntuations:\n",
    "        email_contents = \"\".join([str(x) for x in email_contents.split(i) if x.strip()])\n",
    "    return email_contents"
   ]
  },
  {
   "cell_type": "code",
   "execution_count": 63,
   "metadata": {},
   "outputs": [
    {
     "name": "stdout",
     "output_type": "stream",
     "text": [
      " anyon know how much it cost to host a web portal   well it depend on how mani visitor your expecting this can be anywher from less than number buck a month to a coupl of dollarnumber you should checkout httpaddr or perhap amazon ecnumb if your run someth big to unsubscrib yourself from this mail list send an email to emailaddr\n"
     ]
    }
   ],
   "source": [
    "sample_email = 'data/ex6emailSample1.txt'\n",
    "preprocessed_email = preprocess(sample_email)\n",
    "print(preprocessed_email)"
   ]
  },
  {
   "cell_type": "code",
   "execution_count": 72,
   "metadata": {},
   "outputs": [
    {
     "ename": "TypeError",
     "evalue": "list indices must be integers or slices, not str",
     "output_type": "error",
     "traceback": [
      "\u001b[0;31m---------------------------------------------------------------------------\u001b[0m",
      "\u001b[0;31mTypeError\u001b[0m                                 Traceback (most recent call last)",
      "\u001b[0;32m<ipython-input-72-0a83b524e40a>\u001b[0m in \u001b[0;36m<module>\u001b[0;34m()\u001b[0m\n\u001b[1;32m      4\u001b[0m         \u001b[0mX\u001b[0m\u001b[0;34m[\u001b[0m\u001b[0mi\u001b[0m\u001b[0;34m]\u001b[0m \u001b[0;34m=\u001b[0m \u001b[0;36m1\u001b[0m\u001b[0;34m\u001b[0m\u001b[0m\n\u001b[1;32m      5\u001b[0m     \u001b[0;32melse\u001b[0m\u001b[0;34m:\u001b[0m\u001b[0;34m\u001b[0m\u001b[0m\n\u001b[0;32m----> 6\u001b[0;31m         \u001b[0mX\u001b[0m\u001b[0;34m[\u001b[0m\u001b[0mi\u001b[0m\u001b[0;34m]\u001b[0m \u001b[0;34m=\u001b[0m \u001b[0;36m0\u001b[0m\u001b[0;34m\u001b[0m\u001b[0m\n\u001b[0m\u001b[1;32m      7\u001b[0m \u001b[0mprint\u001b[0m\u001b[0;34m(\u001b[0m\u001b[0mX\u001b[0m\u001b[0;34m)\u001b[0m\u001b[0;34m\u001b[0m\u001b[0m\n",
      "\u001b[0;31mTypeError\u001b[0m: list indices must be integers or slices, not str"
     ]
    }
   ],
   "source": [
    "X = []\n",
    "for i in preprocessed_email.split():\n",
    "    if i in vocab[\"aa\"]:\n",
    "        X[i] = 1\n",
    "    else:\n",
    "        X[i] = 0\n",
    "print(X)"
   ]
  },
  {
   "cell_type": "code",
   "execution_count": 71,
   "metadata": {},
   "outputs": [
    {
     "data": {
      "text/plain": [
       "0              ab\n",
       "1            abil\n",
       "2             abl\n",
       "3           about\n",
       "4            abov\n",
       "5         absolut\n",
       "6            abus\n",
       "7              ac\n",
       "8          accept\n",
       "9          access\n",
       "10         accord\n",
       "11        account\n",
       "12         achiev\n",
       "13         acquir\n",
       "14         across\n",
       "15            act\n",
       "16         action\n",
       "17          activ\n",
       "18         actual\n",
       "19             ad\n",
       "20           adam\n",
       "21            add\n",
       "22          addit\n",
       "23        address\n",
       "24      administr\n",
       "25          adult\n",
       "26         advanc\n",
       "27       advantag\n",
       "28       advertis\n",
       "29          advic\n",
       "30          advis\n",
       "31             ae\n",
       "32             af\n",
       "33         affect\n",
       "34         affili\n",
       "35         afford\n",
       "36         africa\n",
       "37          after\n",
       "38             ag\n",
       "39          again\n",
       "40        against\n",
       "41          agenc\n",
       "42          agent\n",
       "43            ago\n",
       "44           agre\n",
       "45      agreement\n",
       "46            aid\n",
       "47            air\n",
       "48             al\n",
       "49            alb\n",
       "50          align\n",
       "51            all\n",
       "52          allow\n",
       "53         almost\n",
       "54           alon\n",
       "55          along\n",
       "56        alreadi\n",
       "57           alsa\n",
       "58           also\n",
       "59         altern\n",
       "60       although\n",
       "61          alwai\n",
       "62             am\n",
       "63           amaz\n",
       "64        america\n",
       "65       american\n",
       "66          among\n",
       "67         amount\n",
       "68            amp\n",
       "69             an\n",
       "70        analysi\n",
       "71        analyst\n",
       "72            and\n",
       "73            ani\n",
       "74           anim\n",
       "          ...    \n",
       "1823          wed\n",
       "1824    wednesdai\n",
       "1825         week\n",
       "1826       weekli\n",
       "1827       weight\n",
       "1828       welcom\n",
       "1829         well\n",
       "1830         went\n",
       "1831         were\n",
       "1832         west\n",
       "1833         what\n",
       "1834       whatev\n",
       "1835         when\n",
       "1836        where\n",
       "1837      whether\n",
       "1838        which\n",
       "1839        while\n",
       "1840        white\n",
       "1841    whitelist\n",
       "1842          who\n",
       "1843        whole\n",
       "1844        whose\n",
       "1845          why\n",
       "1846           wi\n",
       "1847         wide\n",
       "1848        width\n",
       "1849         wife\n",
       "1850         will\n",
       "1851      william\n",
       "1852          win\n",
       "1853       window\n",
       "1854         wing\n",
       "1855       winner\n",
       "1856     wireless\n",
       "1857         wish\n",
       "1858         with\n",
       "1859       within\n",
       "1860      without\n",
       "1861     wnumberp\n",
       "1862        woman\n",
       "1863        women\n",
       "1864          won\n",
       "1865       wonder\n",
       "1866         word\n",
       "1867         work\n",
       "1868       worker\n",
       "1869        world\n",
       "1870     worldwid\n",
       "1871        worri\n",
       "1872        worst\n",
       "1873        worth\n",
       "1874        would\n",
       "1875       wouldn\n",
       "1876        write\n",
       "1877      written\n",
       "1878        wrong\n",
       "1879        wrote\n",
       "1880          www\n",
       "1881       ximian\n",
       "1882          xml\n",
       "1883           xp\n",
       "1884        yahoo\n",
       "1885           ye\n",
       "1886         yeah\n",
       "1887         year\n",
       "1888    yesterdai\n",
       "1889          yet\n",
       "1890         york\n",
       "1891          you\n",
       "1892        young\n",
       "1893         your\n",
       "1894     yourself\n",
       "1895        zdnet\n",
       "1896         zero\n",
       "1897          zip\n",
       "Name: aa, Length: 1898, dtype: object"
      ]
     },
     "execution_count": 71,
     "metadata": {},
     "output_type": "execute_result"
    }
   ],
   "source": [
    "vocab[\"aa\"]"
   ]
  },
  {
   "cell_type": "code",
   "execution_count": null,
   "metadata": {
    "collapsed": true
   },
   "outputs": [],
   "source": []
  }
 ],
 "metadata": {
  "kernelspec": {
   "display_name": "Python 3",
   "language": "python",
   "name": "python3"
  },
  "language_info": {
   "codemirror_mode": {
    "name": "ipython",
    "version": 3
   },
   "file_extension": ".py",
   "mimetype": "text/x-python",
   "name": "python",
   "nbconvert_exporter": "python",
   "pygments_lexer": "ipython3",
   "version": "3.6.3"
  }
 },
 "nbformat": 4,
 "nbformat_minor": 2
}
